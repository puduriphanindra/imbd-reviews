{
  "nbformat": 4,
  "nbformat_minor": 0,
  "metadata": {
    "colab": {
      "name": "imdb.ipynb",
      "provenance": []
    },
    "kernelspec": {
      "name": "python3",
      "display_name": "Python 3"
    }
  },
  "cells": [
    {
      "cell_type": "code",
      "metadata": {
        "id": "Zso1pBRmknmY",
        "colab": {
          "base_uri": "https://localhost:8080/"
        },
        "outputId": "28b67c71-9d48-4839-961c-3acbb878d84d"
      },
      "source": [
        "import pandas as pd\r\n",
        "data=pd.read_csv('/content/drive/MyDrive/sentiment/IMDB Dataset.csv').values\r\n",
        "data"
      ],
      "execution_count": 4,
      "outputs": [
        {
          "output_type": "execute_result",
          "data": {
            "text/plain": [
              "array([[\"One of the other reviewers has mentioned that after watching just 1 Oz episode you'll be hooked. They are right, as this is exactly what happened with me.<br /><br />The first thing that struck me about Oz was its brutality and unflinching scenes of violence, which set in right from the word GO. Trust me, this is not a show for the faint hearted or timid. This show pulls no punches with regards to drugs, sex or violence. Its is hardcore, in the classic use of the word.<br /><br />It is called OZ as that is the nickname given to the Oswald Maximum Security State Penitentary. It focuses mainly on Emerald City, an experimental section of the prison where all the cells have glass fronts and face inwards, so privacy is not high on the agenda. Em City is home to many..Aryans, Muslims, gangstas, Latinos, Christians, Italians, Irish and more....so scuffles, death stares, dodgy dealings and shady agreements are never far away.<br /><br />I would say the main appeal of the show is due to the fact that it goes where other shows wouldn't dare. Forget pretty pictures painted for mainstream audiences, forget charm, forget romance...OZ doesn't mess around. The first episode I ever saw struck me as so nasty it was surreal, I couldn't say I was ready for it, but as I watched more, I developed a taste for Oz, and got accustomed to the high levels of graphic violence. Not just violence, but injustice (crooked guards who'll be sold out for a nickel, inmates who'll kill on order and get away with it, well mannered, middle class inmates being turned into prison bitches due to their lack of street skills or prison experience) Watching Oz, you may become comfortable with what is uncomfortable viewing....thats if you can get in touch with your darker side.\",\n",
              "        'positive'],\n",
              "       ['A wonderful little production. <br /><br />The filming technique is very unassuming- very old-time-BBC fashion and gives a comforting, and sometimes discomforting, sense of realism to the entire piece. <br /><br />The actors are extremely well chosen- Michael Sheen not only \"has got all the polari\" but he has all the voices down pat too! You can truly see the seamless editing guided by the references to Williams\\' diary entries, not only is it well worth the watching but it is a terrificly written and performed piece. A masterful production about one of the great master\\'s of comedy and his life. <br /><br />The realism really comes home with the little things: the fantasy of the guard which, rather than use the traditional \\'dream\\' techniques remains solid then disappears. It plays on our knowledge and our senses, particularly with the scenes concerning Orton and Halliwell and the sets (particularly of their flat with Halliwell\\'s murals decorating every surface) are terribly well done.',\n",
              "        'positive'],\n",
              "       ['I thought this was a wonderful way to spend time on a too hot summer weekend, sitting in the air conditioned theater and watching a light-hearted comedy. The plot is simplistic, but the dialogue is witty and the characters are likable (even the well bread suspected serial killer). While some may be disappointed when they realize this is not Match Point 2: Risk Addiction, I thought it was proof that Woody Allen is still fully in control of the style many of us have grown to love.<br /><br />This was the most I\\'d laughed at one of Woody\\'s comedies in years (dare I say a decade?). While I\\'ve never been impressed with Scarlet Johanson, in this she managed to tone down her \"sexy\" image and jumped right into a average, but spirited young woman.<br /><br />This may not be the crown jewel of his career, but it was wittier than \"Devil Wears Prada\" and more interesting than \"Superman\" a great comedy to go see with friends.',\n",
              "        'positive'],\n",
              "       ...,\n",
              "       ['I am a Catholic taught in parochial elementary schools by nuns, taught by Jesuit priests in high school & college. I am still a practicing Catholic but would not be considered a \"good Catholic\" in the church\\'s eyes because I don\\'t believe certain things or act certain ways just because the church tells me to.<br /><br />So back to the movie...its bad because two people are killed by this nun who is supposed to be a satire as the embodiment of a female religious figurehead. There is no comedy in that and the satire is not done well by the over acting of Diane Keaton. I never saw the play but if it was very different from this movies then it may be good.<br /><br />At first I thought the gun might be a fake and the first shooting all a plan by the female lead of the four former students as an attempt to demonstrate Sister Mary\\'s emotional and intellectual bigotry of faith. But it turns out the bullets were real and the story has tragedy...the tragedy of loss of life (besides the two former students...the lives of the aborted babies, the life of the student\\'s mom), the tragedy of dogmatic authority over love of people, the tragedy of organized religion replacing true faith in God. This is what is wrong with today\\'s Islam, and yesterday\\'s Judaism and Christianity.',\n",
              "        'negative'],\n",
              "       ['I\\'m going to have to disagree with the previous comment and side with Maltin on this one. This is a second rate, excessively vicious Western that creaks and groans trying to put across its central theme of the Wild West being tamed and kicked aside by the steady march of time. It would like to be in the tradition of \"Butch Cassidy and the Sundance Kid\", but lacks that film\\'s poignancy and charm. Andrew McLaglen\\'s direction is limp, and the final 30 minutes or so are a real botch, with some incomprehensible strategy on the part of heroes Charlton Heston and Chris Mitchum. (Someone give me a holler if you can explain to me why they set that hillside on fire.) There was something callous about the whole treatment of the rape scene, and the woman\\'s reaction afterwards certainly did not ring true. Coburn is plenty nasty as the half breed escaped convict out for revenge, but all of his fellow escapees are underdeveloped (they\\'re like bowling pins to be knocked down one by one as the story lurches forward). Michael Parks gives one of his typically shifty, lethargic, mumbling performances, but in this case it was appropriate as his modern style sheriff symbolizes the complacency that technological progress can bring about.',\n",
              "        'negative'],\n",
              "       [\"No one expects the Star Trek movies to be high art, but the fans do expect a movie that is as good as some of the best episodes. Unfortunately, this movie had a muddled, implausible plot that just left me cringing - this is by far the worst of the nine (so far) movies. Even the chance to watch the well known characters interact in another movie can't save this movie - including the goofy scenes with Kirk, Spock and McCoy at Yosemite.<br /><br />I would say this movie is not worth a rental, and hardly worth watching, however for the True Fan who needs to see all the movies, renting this movie is about the only way you'll see it - even the cable channels avoid this movie.\",\n",
              "        'negative']], dtype=object)"
            ]
          },
          "metadata": {
            "tags": []
          },
          "execution_count": 4
        }
      ]
    },
    {
      "cell_type": "code",
      "metadata": {
        "id": "BLfjDwH6nCoO"
      },
      "source": [
        "import nltk\r\n",
        "import numpy as np"
      ],
      "execution_count": 17,
      "outputs": []
    },
    {
      "cell_type": "code",
      "metadata": {
        "id": "Aj8EHY99dJ8N"
      },
      "source": [
        "X=data[:,0]\r\n",
        "Y=data[:,1]"
      ],
      "execution_count": 5,
      "outputs": []
    },
    {
      "cell_type": "code",
      "metadata": {
        "id": "srOOs8rPgalY"
      },
      "source": [
        "from sklearn.preprocessing import LabelEncoder\r\n",
        "l=LabelEncoder()\r\n",
        "Y=l.fit_transform(Y)"
      ],
      "execution_count": 6,
      "outputs": []
    },
    {
      "cell_type": "code",
      "metadata": {
        "colab": {
          "base_uri": "https://localhost:8080/"
        },
        "id": "-5Yu6IAyqKRg",
        "outputId": "f278b029-5a7b-4549-a263-9689b7b8f2cc"
      },
      "source": [
        "Y"
      ],
      "execution_count": 7,
      "outputs": [
        {
          "output_type": "execute_result",
          "data": {
            "text/plain": [
              "array([1, 1, 1, ..., 0, 0, 0])"
            ]
          },
          "metadata": {
            "tags": []
          },
          "execution_count": 7
        }
      ]
    },
    {
      "cell_type": "code",
      "metadata": {
        "id": "I4_nRaJoudq6"
      },
      "source": [
        "def lower(X):\r\n",
        "  reviews=[]\r\n",
        "  m=X.shape[0]\r\n",
        "  for i in range(m):\r\n",
        "    review=X[i].lower()\r\n",
        "    review=review.replace('<br /><br />',' ')\r\n",
        "    reviews.append(review)\r\n",
        "  return np.array(reviews)"
      ],
      "execution_count": 8,
      "outputs": []
    },
    {
      "cell_type": "code",
      "metadata": {
        "id": "uGrP68motcvt"
      },
      "source": [
        "def punctuate(X):\r\n",
        "  reviews=[]\r\n",
        "  m=X.shape[0]\r\n",
        "  for i in range(m):\r\n",
        "    review=X[i]\r\n",
        "    for ele in review:\r\n",
        "      if ele in puncts:\r\n",
        "        review=review.replace(ele,'')\r\n",
        "    reviews.append(review)\r\n",
        "  return np.array(reviews)"
      ],
      "execution_count": 9,
      "outputs": []
    },
    {
      "cell_type": "code",
      "metadata": {
        "id": "LBqGn093tgqp"
      },
      "source": [
        "from nltk.tokenize import RegexpTokenizer\r\n",
        "from nltk.corpus import stopwords\r\n",
        "from nltk.stem.snowball import SnowballStemmer"
      ],
      "execution_count": 10,
      "outputs": []
    },
    {
      "cell_type": "code",
      "metadata": {
        "colab": {
          "base_uri": "https://localhost:8080/"
        },
        "id": "BhidWNAptkUL",
        "outputId": "3f9fd6a8-ef7c-4c57-805f-179216b7eb76"
      },
      "source": [
        "nltk.download('stopwords')"
      ],
      "execution_count": 11,
      "outputs": [
        {
          "output_type": "stream",
          "text": [
            "[nltk_data] Downloading package stopwords to /root/nltk_data...\n",
            "[nltk_data]   Unzipping corpora/stopwords.zip.\n"
          ],
          "name": "stdout"
        },
        {
          "output_type": "execute_result",
          "data": {
            "text/plain": [
              "True"
            ]
          },
          "metadata": {
            "tags": []
          },
          "execution_count": 11
        }
      ]
    },
    {
      "cell_type": "code",
      "metadata": {
        "id": "jorsPGy9tonW"
      },
      "source": [
        "tokenize=RegexpTokenizer(r'\\w+')\r\n",
        "ss=SnowballStemmer('english')\r\n",
        "en_stopwords=set(stopwords.words('english'))"
      ],
      "execution_count": 12,
      "outputs": []
    },
    {
      "cell_type": "code",
      "metadata": {
        "id": "Z2EaC3jmtsVF"
      },
      "source": [
        "def tokenizer(X):\r\n",
        "  reviews=[]\r\n",
        "  m=X.shape[0]\r\n",
        "  for i in range(m):\r\n",
        "    review=X[i]\r\n",
        "    tokens=tokenize.tokenize(review)\r\n",
        "    review=' '.join(tokens)\r\n",
        "    reviews.append(review)\r\n",
        "  return np.array(reviews)"
      ],
      "execution_count": 13,
      "outputs": []
    },
    {
      "cell_type": "code",
      "metadata": {
        "id": "MldgPs56t3Hm"
      },
      "source": [
        "def stopword_rm(X):\r\n",
        "  reviews=[]\r\n",
        "  m=X.shape[0]\r\n",
        "  for i in range(m):\r\n",
        "    review=X[i]\r\n",
        "    tokens=tokenize.tokenize(review)\r\n",
        "    new_tokens=[token for token in tokens if token not in en_stopwords]\r\n",
        "    new_tokens=' '.join(new_tokens)\r\n",
        "    reviews.append(new_tokens)\r\n",
        "  return np.array(reviews)"
      ],
      "execution_count": 15,
      "outputs": []
    },
    {
      "cell_type": "code",
      "metadata": {
        "id": "s8UUtGWntvwd"
      },
      "source": [
        "def stemming(X):\r\n",
        "  reviews=[]\r\n",
        "  m=X.shape[0]\r\n",
        "  for i in range(m):\r\n",
        "    review=X[i]\r\n",
        "    tokens=tokenize.tokenize(review)\r\n",
        "    stem=[ss.stem(t) for t in tokens]\r\n",
        "    stem=' '.join(stem)\r\n",
        "    reviews.append(stem)\r\n",
        "  return np.array(reviews)"
      ],
      "execution_count": 14,
      "outputs": []
    },
    {
      "cell_type": "code",
      "metadata": {
        "id": "E4ACqAfptydF"
      },
      "source": [
        "X=lower(X)"
      ],
      "execution_count": 18,
      "outputs": []
    },
    {
      "cell_type": "code",
      "metadata": {
        "id": "I6hCEoVrt7Ht"
      },
      "source": [
        "def mainfunction(X):\r\n",
        "  reviews=[]\r\n",
        "  m=X.shape[0]\r\n",
        "  for i in range(m):\r\n",
        "    review=X[i]\r\n",
        "    review=review.lower()\r\n",
        "    review=review.replace('<br /><br />',' ')\r\n",
        "    #for ele in review:\r\n",
        "      #if ele in puncts:\r\n",
        "        #review=review.replace(ele,'')\r\n",
        "    tokens=tokenize.tokenize(review)\r\n",
        "    stem=[ss.stem(t) for t in tokens]\r\n",
        "    new_tokens=[token for token in tokens if token not in en_stopwords]\r\n",
        "    new_tokens=' '.join(new_tokens)\r\n",
        "    reviews.append(new_tokens)\r\n",
        "  return np.array(reviews)"
      ],
      "execution_count": 20,
      "outputs": []
    },
    {
      "cell_type": "code",
      "metadata": {
        "id": "iFvQNgNzuG3s"
      },
      "source": [
        "X1=mainfunction(X)"
      ],
      "execution_count": 21,
      "outputs": []
    },
    {
      "cell_type": "code",
      "metadata": {
        "id": "PB9BQ5g4uR09"
      },
      "source": [
        "from sklearn.model_selection import train_test_split\r\n",
        "x1_train,x1_test,y1_train,y1_test=train_test_split(X1,Y,test_size=0.4)\r\n",
        "x1_val=x1_test[:10000]\r\n",
        "y1_val=y1_test[:10000]\r\n",
        "x1_test=x1_test[10000:]\r\n",
        "y1_test=y1_test[10000:]"
      ],
      "execution_count": 22,
      "outputs": []
    },
    {
      "cell_type": "code",
      "metadata": {
        "id": "Fna9lznvuW0L"
      },
      "source": [
        "from sklearn.feature_extraction.text import CountVectorizer\r\n",
        "cv=CountVectorizer()\r\n",
        "x1cv=cv.fit_transform(x1_train)"
      ],
      "execution_count": 23,
      "outputs": []
    },
    {
      "cell_type": "code",
      "metadata": {
        "id": "H-vhrvPEubHd"
      },
      "source": [
        "from sklearn.feature_extraction.text import TfidfVectorizer\r\n",
        "tfidf=TfidfVectorizer()\r\n",
        "x1tf=tfidf.fit_transform(x1_train)"
      ],
      "execution_count": 24,
      "outputs": []
    },
    {
      "cell_type": "code",
      "metadata": {
        "id": "mHGeiIeLugRh"
      },
      "source": [
        "from sklearn.naive_bayes import MultinomialNB\r\n",
        "mnb=MultinomialNB()"
      ],
      "execution_count": 25,
      "outputs": []
    },
    {
      "cell_type": "code",
      "metadata": {
        "colab": {
          "base_uri": "https://localhost:8080/"
        },
        "id": "1PxuoDG6uk9t",
        "outputId": "157277a3-8948-458b-988c-d80100f08130"
      },
      "source": [
        "mnb.fit(x1cv,y1_train)"
      ],
      "execution_count": 26,
      "outputs": [
        {
          "output_type": "execute_result",
          "data": {
            "text/plain": [
              "MultinomialNB(alpha=1.0, class_prior=None, fit_prior=True)"
            ]
          },
          "metadata": {
            "tags": []
          },
          "execution_count": 26
        }
      ]
    },
    {
      "cell_type": "code",
      "metadata": {
        "colab": {
          "base_uri": "https://localhost:8080/"
        },
        "id": "2AVEJC4fu3TS",
        "outputId": "d73a7ec0-bdf4-4f19-a94e-ceb468e43fc7"
      },
      "source": [
        "mnb.score(x1cv,y1_train)"
      ],
      "execution_count": 27,
      "outputs": [
        {
          "output_type": "execute_result",
          "data": {
            "text/plain": [
              "0.9096333333333333"
            ]
          },
          "metadata": {
            "tags": []
          },
          "execution_count": 27
        }
      ]
    },
    {
      "cell_type": "code",
      "metadata": {
        "id": "zpyRMvOlu7td"
      },
      "source": [
        "x1cv_val=cv.transform(x1_val)\r\n",
        "x1cv_test=cv.transform(x1_test)"
      ],
      "execution_count": 28,
      "outputs": []
    },
    {
      "cell_type": "code",
      "metadata": {
        "colab": {
          "base_uri": "https://localhost:8080/"
        },
        "id": "uH-uQy9Pu_6o",
        "outputId": "70f47df7-0e90-459e-ac5d-08e927be9733"
      },
      "source": [
        "mnb.score(x1cv_test,y1_test)"
      ],
      "execution_count": 29,
      "outputs": [
        {
          "output_type": "execute_result",
          "data": {
            "text/plain": [
              "0.8614"
            ]
          },
          "metadata": {
            "tags": []
          },
          "execution_count": 29
        }
      ]
    },
    {
      "cell_type": "code",
      "metadata": {
        "id": "zAcGCNcrvD06"
      },
      "source": [
        "y_pred=mnb.predict(x1cv_test)"
      ],
      "execution_count": 30,
      "outputs": []
    },
    {
      "cell_type": "code",
      "metadata": {
        "colab": {
          "base_uri": "https://localhost:8080/"
        },
        "id": "b2D2a2mgvHf_",
        "outputId": "329a7022-ee5a-42e2-e913-f4e92f61ee54"
      },
      "source": [
        "print(y1_test)"
      ],
      "execution_count": 31,
      "outputs": [
        {
          "output_type": "stream",
          "text": [
            "[1 0 0 ... 0 1 1]\n"
          ],
          "name": "stdout"
        }
      ]
    },
    {
      "cell_type": "code",
      "metadata": {
        "colab": {
          "base_uri": "https://localhost:8080/"
        },
        "id": "ExaFInlovKm4",
        "outputId": "8e7d04ec-d00e-4d69-d3b1-79597bd74fe4"
      },
      "source": [
        "from sklearn.metrics import precision_recall_fscore_support\r\n",
        "precision_recall_fscore_support(y1_test, y_pred, average='binary')"
      ],
      "execution_count": 32,
      "outputs": [
        {
          "output_type": "execute_result",
          "data": {
            "text/plain": [
              "(0.8821324448146606, 0.8378164556962026, 0.859403530127815, None)"
            ]
          },
          "metadata": {
            "tags": []
          },
          "execution_count": 32
        }
      ]
    },
    {
      "cell_type": "code",
      "metadata": {
        "id": "dpF0eZwQvO4M"
      },
      "source": [
        "from sklearn.metrics import confusion_matrix\r\n",
        "cnf=confusion_matrix(y1_test,y_pred)"
      ],
      "execution_count": 33,
      "outputs": []
    },
    {
      "cell_type": "code",
      "metadata": {
        "colab": {
          "base_uri": "https://localhost:8080/"
        },
        "id": "4b2Hb7dVvS5A",
        "outputId": "8f71c421-8cd0-43ee-85b0-fd480327cb0a"
      },
      "source": [
        "print(cnf)"
      ],
      "execution_count": 34,
      "outputs": [
        {
          "output_type": "stream",
          "text": [
            "[[4378  566]\n",
            " [ 820 4236]]\n"
          ],
          "name": "stdout"
        }
      ]
    },
    {
      "cell_type": "code",
      "metadata": {
        "id": "KvAZZJIDvVjC"
      },
      "source": [
        "mnb1=MultinomialNB()"
      ],
      "execution_count": 35,
      "outputs": []
    },
    {
      "cell_type": "code",
      "metadata": {
        "colab": {
          "base_uri": "https://localhost:8080/"
        },
        "id": "FpIJwvDMvYsP",
        "outputId": "d093de41-89ec-418f-d5a0-6abada862057"
      },
      "source": [
        "mnb1.fit(x1tf,y1_train)"
      ],
      "execution_count": 36,
      "outputs": [
        {
          "output_type": "execute_result",
          "data": {
            "text/plain": [
              "MultinomialNB(alpha=1.0, class_prior=None, fit_prior=True)"
            ]
          },
          "metadata": {
            "tags": []
          },
          "execution_count": 36
        }
      ]
    },
    {
      "cell_type": "code",
      "metadata": {
        "colab": {
          "base_uri": "https://localhost:8080/"
        },
        "id": "Ree_z0JMvbdu",
        "outputId": "8abde097-55b4-4b0b-e794-8cb240ddac3c"
      },
      "source": [
        "mnb1.score(x1tf,y1_train)"
      ],
      "execution_count": 37,
      "outputs": [
        {
          "output_type": "execute_result",
          "data": {
            "text/plain": [
              "0.9128"
            ]
          },
          "metadata": {
            "tags": []
          },
          "execution_count": 37
        }
      ]
    },
    {
      "cell_type": "code",
      "metadata": {
        "id": "Z9nJqYqcverV"
      },
      "source": [
        "x1tf_test=tfidf.transform(x1_test)"
      ],
      "execution_count": 38,
      "outputs": []
    },
    {
      "cell_type": "code",
      "metadata": {
        "colab": {
          "base_uri": "https://localhost:8080/"
        },
        "id": "3HkTQzH6vhLH",
        "outputId": "3307ddb3-8245-4600-b519-5c0138d15a9e"
      },
      "source": [
        "mnb1.score(x1tf_test,y1_test)"
      ],
      "execution_count": 39,
      "outputs": [
        {
          "output_type": "execute_result",
          "data": {
            "text/plain": [
              "0.8701"
            ]
          },
          "metadata": {
            "tags": []
          },
          "execution_count": 39
        }
      ]
    },
    {
      "cell_type": "code",
      "metadata": {
        "id": "IgqO5yDovkCc"
      },
      "source": [
        "y_pred1=mnb1.predict(x1tf_test)"
      ],
      "execution_count": 40,
      "outputs": []
    },
    {
      "cell_type": "code",
      "metadata": {
        "colab": {
          "base_uri": "https://localhost:8080/"
        },
        "id": "2RKz2kRvvoja",
        "outputId": "c7e4d721-dcab-4409-9dbd-78163fbc1733"
      },
      "source": [
        "cnf1=confusion_matrix(y1_test,y_pred1)\r\n",
        "print(cnf1)"
      ],
      "execution_count": 41,
      "outputs": [
        {
          "output_type": "stream",
          "text": [
            "[[4366  578]\n",
            " [ 721 4335]]\n"
          ],
          "name": "stdout"
        }
      ]
    },
    {
      "cell_type": "code",
      "metadata": {
        "colab": {
          "base_uri": "https://localhost:8080/"
        },
        "id": "hwX-nkLJvrTl",
        "outputId": "eff64331-9ba5-4c00-928e-f7cea5ced678"
      },
      "source": [
        "precision_recall_fscore_support(y1_test, y_pred1, average='binary')"
      ],
      "execution_count": 42,
      "outputs": [
        {
          "output_type": "execute_result",
          "data": {
            "text/plain": [
              "(0.8823529411764706, 0.8573971518987342, 0.8696960577791153, None)"
            ]
          },
          "metadata": {
            "tags": []
          },
          "execution_count": 42
        }
      ]
    },
    {
      "cell_type": "code",
      "metadata": {
        "id": "pj-Ku45Uvu2M"
      },
      "source": [
        "from sklearn.linear_model import LogisticRegression"
      ],
      "execution_count": 43,
      "outputs": []
    },
    {
      "cell_type": "code",
      "metadata": {
        "id": "8FwwJXXMvzFS"
      },
      "source": [
        "params=[\r\n",
        "        {'C':[0.01,0.03,0.1,0.3,1,3,10,30,100]}\r\n",
        "]"
      ],
      "execution_count": 44,
      "outputs": []
    },
    {
      "cell_type": "code",
      "metadata": {
        "id": "rl8_d3tDv1rh"
      },
      "source": [
        "from sklearn.model_selection import GridSearchCV\r\n",
        "\r\n",
        "clf=LogisticRegression()\r\n",
        "gs=GridSearchCV(estimator=clf,param_grid=params,scoring='f1',cv=5,n_jobs=-1)"
      ],
      "execution_count": 45,
      "outputs": []
    },
    {
      "cell_type": "code",
      "metadata": {
        "id": "MYZAcitav67U"
      },
      "source": [
        "x1tf_val=tfidf.transform(x1_val)"
      ],
      "execution_count": 46,
      "outputs": []
    },
    {
      "cell_type": "code",
      "metadata": {
        "colab": {
          "base_uri": "https://localhost:8080/"
        },
        "id": "ZicKL-U6v-JR",
        "outputId": "3a65a35c-f284-488c-a300-6db1076e2f73"
      },
      "source": [
        "clf.fit(x1tf,y1_train)"
      ],
      "execution_count": 47,
      "outputs": [
        {
          "output_type": "execute_result",
          "data": {
            "text/plain": [
              "LogisticRegression(C=1.0, class_weight=None, dual=False, fit_intercept=True,\n",
              "                   intercept_scaling=1, l1_ratio=None, max_iter=100,\n",
              "                   multi_class='auto', n_jobs=None, penalty='l2',\n",
              "                   random_state=None, solver='lbfgs', tol=0.0001, verbose=0,\n",
              "                   warm_start=False)"
            ]
          },
          "metadata": {
            "tags": []
          },
          "execution_count": 47
        }
      ]
    },
    {
      "cell_type": "code",
      "metadata": {
        "colab": {
          "base_uri": "https://localhost:8080/"
        },
        "id": "kZkkTvSFwEdJ",
        "outputId": "0721b2c2-2f15-4068-99ea-0ebc48bab987"
      },
      "source": [
        "clf.score(x1tf,y1_train)"
      ],
      "execution_count": 48,
      "outputs": [
        {
          "output_type": "execute_result",
          "data": {
            "text/plain": [
              "0.9359666666666666"
            ]
          },
          "metadata": {
            "tags": []
          },
          "execution_count": 48
        }
      ]
    },
    {
      "cell_type": "code",
      "metadata": {
        "colab": {
          "base_uri": "https://localhost:8080/"
        },
        "id": "gqQyYGEjwJYo",
        "outputId": "6bf3c26f-efeb-4562-f1dd-1f36312ab45a"
      },
      "source": [
        "gs.fit(x1tf_val,y1_val)"
      ],
      "execution_count": 49,
      "outputs": [
        {
          "output_type": "execute_result",
          "data": {
            "text/plain": [
              "GridSearchCV(cv=5, error_score=nan,\n",
              "             estimator=LogisticRegression(C=1.0, class_weight=None, dual=False,\n",
              "                                          fit_intercept=True,\n",
              "                                          intercept_scaling=1, l1_ratio=None,\n",
              "                                          max_iter=100, multi_class='auto',\n",
              "                                          n_jobs=None, penalty='l2',\n",
              "                                          random_state=None, solver='lbfgs',\n",
              "                                          tol=0.0001, verbose=0,\n",
              "                                          warm_start=False),\n",
              "             iid='deprecated', n_jobs=-1,\n",
              "             param_grid=[{'C': [0.01, 0.03, 0.1, 0.3, 1, 3, 10, 30, 100]}],\n",
              "             pre_dispatch='2*n_jobs', refit=True, return_train_score=False,\n",
              "             scoring='f1', verbose=0)"
            ]
          },
          "metadata": {
            "tags": []
          },
          "execution_count": 49
        }
      ]
    },
    {
      "cell_type": "code",
      "metadata": {
        "colab": {
          "base_uri": "https://localhost:8080/"
        },
        "id": "YdvyhqDrwMqF",
        "outputId": "3f23418b-9dbd-45a2-e776-dd298e10001a"
      },
      "source": [
        "gs.best_estimator_"
      ],
      "execution_count": 50,
      "outputs": [
        {
          "output_type": "execute_result",
          "data": {
            "text/plain": [
              "LogisticRegression(C=3, class_weight=None, dual=False, fit_intercept=True,\n",
              "                   intercept_scaling=1, l1_ratio=None, max_iter=100,\n",
              "                   multi_class='auto', n_jobs=None, penalty='l2',\n",
              "                   random_state=None, solver='lbfgs', tol=0.0001, verbose=0,\n",
              "                   warm_start=False)"
            ]
          },
          "metadata": {
            "tags": []
          },
          "execution_count": 50
        }
      ]
    },
    {
      "cell_type": "code",
      "metadata": {
        "id": "B3p9yQoNwW3y"
      },
      "source": [
        "clf=LogisticRegression(C=3,max_iter=20)"
      ],
      "execution_count": 51,
      "outputs": []
    },
    {
      "cell_type": "code",
      "metadata": {
        "id": "C2s7REJ3wbm2"
      },
      "source": [
        "x1tf"
      ],
      "execution_count": null,
      "outputs": []
    },
    {
      "cell_type": "code",
      "metadata": {
        "colab": {
          "base_uri": "https://localhost:8080/"
        },
        "id": "hrHBF7AQwgNh",
        "outputId": "80342a5a-9ad5-499a-e810-b50fdd6b39af"
      },
      "source": [
        "clf.fit(x1tf,y1_train)"
      ],
      "execution_count": 52,
      "outputs": [
        {
          "output_type": "stream",
          "text": [
            "/usr/local/lib/python3.6/dist-packages/sklearn/linear_model/_logistic.py:940: ConvergenceWarning: lbfgs failed to converge (status=1):\n",
            "STOP: TOTAL NO. of ITERATIONS REACHED LIMIT.\n",
            "\n",
            "Increase the number of iterations (max_iter) or scale the data as shown in:\n",
            "    https://scikit-learn.org/stable/modules/preprocessing.html\n",
            "Please also refer to the documentation for alternative solver options:\n",
            "    https://scikit-learn.org/stable/modules/linear_model.html#logistic-regression\n",
            "  extra_warning_msg=_LOGISTIC_SOLVER_CONVERGENCE_MSG)\n"
          ],
          "name": "stderr"
        },
        {
          "output_type": "execute_result",
          "data": {
            "text/plain": [
              "LogisticRegression(C=3, class_weight=None, dual=False, fit_intercept=True,\n",
              "                   intercept_scaling=1, l1_ratio=None, max_iter=20,\n",
              "                   multi_class='auto', n_jobs=None, penalty='l2',\n",
              "                   random_state=None, solver='lbfgs', tol=0.0001, verbose=0,\n",
              "                   warm_start=False)"
            ]
          },
          "metadata": {
            "tags": []
          },
          "execution_count": 52
        }
      ]
    },
    {
      "cell_type": "code",
      "metadata": {
        "colab": {
          "base_uri": "https://localhost:8080/"
        },
        "id": "EKJLowPJwiXJ",
        "outputId": "35aa1ea9-a29a-4c3e-b717-b242bfcfafcd"
      },
      "source": [
        "clf.score(x1tf,y1_train)"
      ],
      "execution_count": 53,
      "outputs": [
        {
          "output_type": "execute_result",
          "data": {
            "text/plain": [
              "0.9410666666666667"
            ]
          },
          "metadata": {
            "tags": []
          },
          "execution_count": 53
        }
      ]
    },
    {
      "cell_type": "code",
      "metadata": {
        "colab": {
          "base_uri": "https://localhost:8080/"
        },
        "id": "0V9m4aWJwni1",
        "outputId": "0dc06a15-7a0b-488b-a170-c762759bf58a"
      },
      "source": [
        "clf.score(x1tf_val,y1_val)"
      ],
      "execution_count": 54,
      "outputs": [
        {
          "output_type": "execute_result",
          "data": {
            "text/plain": [
              "0.8904"
            ]
          },
          "metadata": {
            "tags": []
          },
          "execution_count": 54
        }
      ]
    },
    {
      "cell_type": "code",
      "metadata": {
        "colab": {
          "base_uri": "https://localhost:8080/"
        },
        "id": "nk_jnBU6wsxl",
        "outputId": "2acb8020-f258-427a-ef27-99b6e1883ce8"
      },
      "source": [
        "clf.score(x1tf_test,y1_test)"
      ],
      "execution_count": 55,
      "outputs": [
        {
          "output_type": "execute_result",
          "data": {
            "text/plain": [
              "0.8963"
            ]
          },
          "metadata": {
            "tags": []
          },
          "execution_count": 55
        }
      ]
    },
    {
      "cell_type": "code",
      "metadata": {
        "colab": {
          "base_uri": "https://localhost:8080/"
        },
        "id": "VnLTIOPcwv_h",
        "outputId": "91af691a-629e-4757-b624-3992292e0fb8"
      },
      "source": [
        "clf.score(x1tf_val,y1_val)"
      ],
      "execution_count": 56,
      "outputs": [
        {
          "output_type": "execute_result",
          "data": {
            "text/plain": [
              "0.8904"
            ]
          },
          "metadata": {
            "tags": []
          },
          "execution_count": 56
        }
      ]
    },
    {
      "cell_type": "code",
      "metadata": {
        "id": "CTpE92xjwzZy"
      },
      "source": [
        "y_pred2=clf.predict(x1tf_test)"
      ],
      "execution_count": 57,
      "outputs": []
    },
    {
      "cell_type": "code",
      "metadata": {
        "colab": {
          "base_uri": "https://localhost:8080/"
        },
        "id": "XOUIFlNaw3GS",
        "outputId": "8c35257d-7266-48f1-93fd-6bb2157ec300"
      },
      "source": [
        "cnf2=confusion_matrix(y1_test,y_pred2)\r\n",
        "print(cnf2)"
      ],
      "execution_count": 58,
      "outputs": [
        {
          "output_type": "stream",
          "text": [
            "[[4377  567]\n",
            " [ 470 4586]]\n"
          ],
          "name": "stdout"
        }
      ]
    },
    {
      "cell_type": "code",
      "metadata": {
        "colab": {
          "base_uri": "https://localhost:8080/"
        },
        "id": "P5c1V0wcw6H1",
        "outputId": "f93a5ce1-433f-44fb-cf30-9ee51a7b1dfa"
      },
      "source": [
        "precision_recall_fscore_support(y1_test, y_pred2, average='binary')"
      ],
      "execution_count": 59,
      "outputs": [
        {
          "output_type": "execute_result",
          "data": {
            "text/plain": [
              "(0.8899670095090239, 0.9070411392405063, 0.8984229601332158, None)"
            ]
          },
          "metadata": {
            "tags": []
          },
          "execution_count": 59
        }
      ]
    },
    {
      "cell_type": "code",
      "metadata": {
        "id": "aQKyDwMtxTR-"
      },
      "source": [
        ""
      ],
      "execution_count": null,
      "outputs": []
    }
  ]
}